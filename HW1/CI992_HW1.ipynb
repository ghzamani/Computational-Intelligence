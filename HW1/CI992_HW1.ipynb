{
  "nbformat": 4,
  "nbformat_minor": 0,
  "metadata": {
    "colab": {
      "name": "CI992_HW1.ipynb",
      "provenance": [],
      "collapsed_sections": [],
      "toc_visible": true
    },
    "kernelspec": {
      "display_name": "Python 3",
      "language": "python",
      "name": "python3"
    },
    "language_info": {
      "codemirror_mode": {
        "name": "ipython",
        "version": 3
      },
      "file_extension": ".py",
      "mimetype": "text/x-python",
      "name": "python",
      "nbconvert_exporter": "python",
      "pygments_lexer": "ipython3",
      "version": "3.8.7"
    }
  },
  "cells": [
    {
      "cell_type": "markdown",
      "metadata": {
        "id": "heBxPYfc0U22"
      },
      "source": [
        "# Your info\n",
        "\n",
        "Full name: Ghazal ZamaniNejad\n",
        "\n",
        "Student ID: 97522166"
      ]
    },
    {
      "cell_type": "markdown",
      "metadata": {
        "id": "UBD007b3-ntJ"
      },
      "source": [
        "# Q1. Perceptron"
      ]
    },
    {
      "cell_type": "code",
      "metadata": {
        "id": "rld-5wsb1gZS"
      },
      "source": [
        "# Q1_graded\n",
        "# Do not change the above line.\n",
        "\n",
        "# This cell is for your imports.\n",
        "\n",
        "import numpy as np\n",
        "import matplotlib.pyplot as plt"
      ],
      "execution_count": 14,
      "outputs": []
    },
    {
      "cell_type": "code",
      "metadata": {
        "id": "PKs23FTj_SI8"
      },
      "source": [
        "# Q1_graded\n",
        "# Do not change the above line.\n",
        "\n",
        "# This cell is for your codes.\n",
        "\n",
        "class StochasticGradientDescent:\n",
        "  input_count = 0\n",
        "  def __init__(self, dataSet, learning_rate, max_deltaW):\n",
        "    self.dataSet = dataSet\n",
        "    # rows of dataset count\n",
        "    self.input_count = dataSet.shape[1]\n",
        "    self.learning_rate = learning_rate\n",
        "    self.max_deltaW = max_deltaW\n",
        "    #define randomly initialized weights\n",
        "    self.weights = np.random.rand(1, self.input_count+1)[0]\n",
        "\n",
        "  #desired is nor\n",
        "  def desired(self, x): return -1 if (1 in x[1:]) else 1\n",
        "\n",
        "  def error(self, x, w): \n",
        "    d = self.desired(x)\n",
        "    return d - np.dot(x, w)\n",
        "\n",
        "  def iterations(self):\n",
        "    deltaW = float(\"inf\")\n",
        "    count = 0\n",
        "\n",
        "    #iterate on all datas while max change in weights is more than small number given\n",
        "    while deltaW > self.max_deltaW :\n",
        "      index = count % self.dataSet.shape[0]\n",
        "      biased_data = np.insert(self.dataSet[index], 0, 1) \n",
        "      e = self.error(biased_data, self.weights)\n",
        "      add_term = (self.learning_rate * e) * (biased_data)\n",
        "      np.add(add_term, self.weights, self.weights)\n",
        "      deltaW = np.max(np.abs(add_term))\n",
        "      count += 1\n",
        "      self.learning_rate *= 0.999\n",
        "\n",
        "    return count\n"
      ],
      "execution_count": 15,
      "outputs": []
    },
    {
      "cell_type": "code",
      "metadata": {
        "id": "g5ISMYZ7_S2X",
        "colab": {
          "base_uri": "https://localhost:8080/"
        },
        "outputId": "10560834-c90a-40f9-b882-2d6cc75186bc"
      },
      "source": [
        "# Q1_graded\n",
        "# Do not change the above line.\n",
        "\n",
        "# This cell is for your codes.\n",
        "\n",
        "data = np.array([[-1, -1],\n",
        "                 [-1, 1], \n",
        "                 [1, -1],\n",
        "                 [1, 1]])\n",
        "\n",
        "gd = StochasticGradientDescent(data, 0.3, 0.0001) #(n, eta, small number)\n",
        "i = gd.iterations()\n",
        "print(\"Learning is done in \", i, \" itetation.\")\n",
        "print(\"Weights are: \", gd.weights)\n"
      ],
      "execution_count": 16,
      "outputs": [
        {
          "output_type": "stream",
          "text": [
            "Learning is done in  7311  itetation.\n",
            "Weights are:  [-0.50009994 -0.50004997 -0.50000005]\n"
          ],
          "name": "stdout"
        }
      ]
    },
    {
      "cell_type": "markdown",
      "metadata": {
        "id": "VAAR47H8-5ML"
      },
      "source": [
        "# Q2. Binary Classification"
      ]
    },
    {
      "cell_type": "code",
      "metadata": {
        "id": "LV7Xa2Sx-6cV"
      },
      "source": [
        "# Q2_graded\n",
        "# Do not change the above line.\n",
        "\n",
        "# This cell is for your imports.\n",
        "\n",
        "import numpy as np\n",
        "import matplotlib.pyplot as plt\n",
        "# import matplotlib.axis as ax"
      ],
      "execution_count": 17,
      "outputs": []
    },
    {
      "cell_type": "code",
      "metadata": {
        "id": "bMIDe8oc_TLW"
      },
      "source": [
        "# Q2_graded\n",
        "# Do not change the above line.\n",
        "\n",
        "# This cell is for your codes.\n",
        "\n",
        "class StochasticGradientDescent:\n",
        "  input_count = 0\n",
        "  def __init__(self, biased_data, desired, learning_rate, max_deltaW):\n",
        "    self.biased_data = biased_data\n",
        "    self.desired = desired\n",
        "    self.input_count = biased_data.shape[1]\n",
        "    self.learning_rate = learning_rate\n",
        "    self.max_deltaW = max_deltaW\n",
        "    #define randomly initialized weights\n",
        "    self.weights = np.random.rand(1, self.input_count)[0]\n",
        "\n",
        "  def error(self, x, w, d): return d - np.dot(x, w)\n",
        "\n",
        "  def E(self, e): return 0.5 * (e**2)\n",
        "\n",
        "\n",
        "  def iterations(self):\n",
        "    err_per_iteration = []\n",
        "    deltaW = float(\"inf\")\n",
        "    count = 0\n",
        "\n",
        "    #iterate on all datas while max change in weights is more than small number given\n",
        "    while deltaW > self.max_deltaW :\n",
        "    # while count < 100:\n",
        "      index = count % self.biased_data.shape[0]\n",
        "      e = self.error(biased_data[index], self.weights, desired[index]) \n",
        "      tmp = np.copy(self.weights)\n",
        "      add_term = (self.learning_rate * e) * (biased_data[index]) \n",
        "      np.add(add_term, self.weights, self.weights)\n",
        "      min_weight = np.min(np.abs(self.weights))\n",
        "      np.divide(self.weights, min_weight, self.weights)\n",
        "      # deltaW = np.max(np.abs(add_term))\n",
        "      deltaW = np.max(np.abs(np.subtract(self.weights, tmp)))\n",
        "      #print(\"deltaW\", deltaW)\n",
        "      self.learning_rate *= 0.999\n",
        "\n",
        "      err_per_iteration.append((count, self.E(e)))\n",
        "      count += 1\n",
        "      \n",
        "    return err_per_iteration\n"
      ],
      "execution_count": 18,
      "outputs": []
    },
    {
      "cell_type": "code",
      "metadata": {
        "id": "M5auUdYc_Tc0",
        "colab": {
          "base_uri": "https://localhost:8080/",
          "height": 426
        },
        "outputId": "6749a06e-397a-4d29-f5eb-074aa5e9fb4c"
      },
      "source": [
        "# Q2_graded\n",
        "# Do not change the above line.\n",
        "\n",
        "# This cell is for your codes.\n",
        "my_file = open(\"./Binary Classification/data.txt\", \"r\")\n",
        "\n",
        "#count of data\n",
        "content = my_file.readlines()\n",
        "lines_num = len(content)\n",
        "\n",
        "dataSet = np.zeros((lines_num, 2))\n",
        "biased_data = np.zeros((lines_num, 3))\n",
        "desired = np.zeros((1, lines_num))[0]\n",
        "\n",
        "#split each line \n",
        "i = 0\n",
        "for line in content:\n",
        "  l = line.split(\",\")\n",
        "  l = [float(x) for x in l]\n",
        "  # np.append(dataSet, [2,3])\n",
        "  biased_data[i] = [1, l[0], l[1]]\n",
        "  dataSet[i] = [l[0], l[1]]\n",
        "  \n",
        "  #change 0 to -1 in desired\n",
        "  if l[2] == 0: desired[i] = -1\n",
        "  else: desired[i] = 1\n",
        "  i += 1\n",
        "\n",
        "gd = StochasticGradientDescent(biased_data, desired, 0.3, 0.00001)\n",
        "error_iter = gd.iterations()\n",
        "print(gd.weights)\n",
        "\n",
        "\n",
        "slope = -1 * gd.weights[1] / gd.weights[2]\n",
        "point = (0, -1 * gd.weights[0] / gd.weights[2])\n",
        "\n",
        "x1 = np.linspace(-200,-50,10000)\n",
        "y1 = slope * x1 - gd.weights[0] / gd.weights[2]\n",
        "\n",
        "\n",
        "colors = ['#1f77b4' if d == -1 else '#2ca02c' for d in desired]\n",
        "x, y = dataSet.T\n",
        "x2 = np.array([err[0] for err in error_iter])\n",
        "y2 = np.log([err[1] for err in error_iter])\n",
        "print(x2)\n",
        "print(y2)\n",
        "\n",
        "fig, (ax1, ax2) = plt.subplots(1, 2, figsize=(15,5))\n",
        "ax1.plot(x1, y1, '-r')\n",
        "ax1.scatter(x, y, c=colors)\n",
        "ax2.plot(x2, y2)\n",
        "plt.figure(figsize=(16, 9))"
      ],
      "execution_count": 19,
      "outputs": [
        {
          "output_type": "stream",
          "text": [
            "[-381.80755957   -1.40660011    1.        ]\n",
            "[    0     1     2 ... 17273 17274 17275]\n",
            "[  3.85226428  21.49818394  19.91690587 ...   6.59358263   6.70867163\n",
            " -11.16793244]\n"
          ],
          "name": "stdout"
        },
        {
          "output_type": "execute_result",
          "data": {
            "text/plain": [
              "<Figure size 1152x648 with 0 Axes>"
            ]
          },
          "metadata": {
            "tags": []
          },
          "execution_count": 19
        },
        {
          "output_type": "display_data",
          "data": {
            "image/png": "[encoded data removed]",
            "text/plain": [
              "<Figure size 1080x360 with 2 Axes>"
            ]
          },
          "metadata": {
            "tags": [],
            "needs_background": "light"
          }
        },
        {
          "output_type": "display_data",
          "data": {
            "text/plain": [
              "<Figure size 1152x648 with 0 Axes>"
            ]
          },
          "metadata": {
            "tags": []
          }
        }
      ]
    },
    {
      "cell_type": "markdown",
      "metadata": {
        "id": "gMWCmByc-7H5"
      },
      "source": [
        "# Q4. MLP"
      ]
    },
    {
      "cell_type": "code",
      "metadata": {
        "id": "wpWMwI6z--GX"
      },
      "source": [
        "# Q4_graded\n",
        "# Do not change the above line.\n",
        "\n",
        "# This cell is for your imports.\n",
        "\n",
        "from keras.layers import *\n",
        "from keras.optimizers import *\n",
        "from keras.models import Sequential\n",
        "from keras.datasets import mnist\n",
        "import numpy as np\n",
        "import matplotlib.pyplot as plt\n",
        "\n",
        "from keras.utils import np_utils \n",
        "import seaborn as sns\n",
        "from keras.initializers import RandomNormal\n",
        "import time"
      ],
      "execution_count": 20,
      "outputs": []
    },
    {
      "cell_type": "code",
      "metadata": {
        "id": "kTmDh0Tw_Tuy",
        "colab": {
          "base_uri": "https://localhost:8080/"
        },
        "outputId": "b34de944-befd-418a-c60c-197f5911d298"
      },
      "source": [
        "# Q4_graded\n",
        "# Do not change the above line.\n",
        "\n",
        "# This cell is for your codes.\n",
        "\n",
        "# the data, shuffled and split between train and test sets\n",
        "(X_train, y_train), (X_test, y_test) = mnist.load_data()\n",
        "\n",
        "# convert the 2d vector into 1d vector of 28^2\n",
        "X_train = X_train.reshape(X_train.shape[0], X_train.shape[1]*X_train.shape[2]) \n",
        "X_test = X_test.reshape(X_test.shape[0], X_test.shape[1]*X_test.shape[2])\n",
        "\n",
        "\n",
        "# normalize the data\n",
        "X_train = X_train/255\n",
        "X_test = X_test/255\n",
        "\n",
        "# encode output with one hot\n",
        "Y_train = np_utils.to_categorical(y_train, 10)\n",
        "Y_test = np_utils.to_categorical(y_test, 10)\n",
        "\n",
        "output_dim = 10\n",
        "input_dim = X_train.shape[1]\n",
        "nb_epoch = 20\n",
        "\n",
        "myMLP = Sequential()\n",
        "myMLP.add(Dense(512, activation='relu', input_shape=(input_dim,)))\n",
        "myMLP.add(Dense(128, activation='relu') )\n",
        "myMLP.add(Dense(output_dim, activation='softmax'))\n",
        "\n",
        "myMLP.compile(optimizer='sgd', loss='categorical_crossentropy', metrics=['accuracy'])"
      ],
      "execution_count": 21,
      "outputs": [
        {
          "output_type": "stream",
          "text": [
            "Downloading data from https://storage.googleapis.com/tensorflow/tf-keras-datasets/mnist.npz\n",
            "11493376/11490434 [==============================] - 0s 0us/step\n"
          ],
          "name": "stdout"
        }
      ]
    },
    {
      "cell_type": "code",
      "metadata": {
        "id": "frBeD-ka_UAJ",
        "colab": {
          "base_uri": "https://localhost:8080/"
        },
        "outputId": "9ce176f2-9d2f-42da-d395-ca98418e65f2"
      },
      "source": [
        "# Q4_graded\n",
        "# Do not change the above line.\n",
        "\n",
        "# This cell is for your codes.\n",
        "\n",
        "history = myMLP.fit(X_train, Y_train, epochs=nb_epoch, validation_data=(X_test, Y_test))\n",
        "\n",
        "fig,ax = plt.subplots(1,1)\n",
        "ax.set_xlabel('epoch')\n",
        "\n",
        "# list of epoch numbers\n",
        "x = list(range(1,nb_epoch+1))\n",
        "\n",
        "loss = history.history['val_loss']\n",
        "accuracy = history.history['val_accuracy']\n",
        "ax.plot(x, loss, 'b', label=\"Validation Loss\")\n",
        "ax.plot(x, accuracy, 'r', label=\"Validation Accuracy\")\n",
        "plt.show()\n"
      ],
      "execution_count": null,
      "outputs": [
        {
          "output_type": "stream",
          "text": [
            "Epoch 1/20\n",
            "1875/1875 [==============================] - 10s 5ms/step - loss: 0.9620 - accuracy: 0.7535 - val_loss: 0.2967 - val_accuracy: 0.9169\n",
            "Epoch 2/20\n",
            "1875/1875 [==============================] - 9s 5ms/step - loss: 0.2883 - accuracy: 0.9173 - val_loss: 0.2297 - val_accuracy: 0.9339\n",
            "Epoch 3/20\n",
            "1875/1875 [==============================] - 9s 5ms/step - loss: 0.2274 - accuracy: 0.9345 - val_loss: 0.1931 - val_accuracy: 0.9445\n",
            "Epoch 4/20\n",
            "1875/1875 [==============================] - 9s 5ms/step - loss: 0.1956 - accuracy: 0.9445 - val_loss: 0.1676 - val_accuracy: 0.9509\n",
            "Epoch 5/20\n",
            "1875/1875 [==============================] - 9s 5ms/step - loss: 0.1601 - accuracy: 0.9541 - val_loss: 0.1539 - val_accuracy: 0.9539\n",
            "Epoch 6/20\n",
            "1875/1875 [==============================] - 9s 5ms/step - loss: 0.1428 - accuracy: 0.9597 - val_loss: 0.1426 - val_accuracy: 0.9579\n",
            "Epoch 7/20\n",
            "1875/1875 [==============================] - 9s 5ms/step - loss: 0.1258 - accuracy: 0.9650 - val_loss: 0.1232 - val_accuracy: 0.9636\n",
            "Epoch 8/20\n",
            "1875/1875 [==============================] - 9s 5ms/step - loss: 0.1138 - accuracy: 0.9689 - val_loss: 0.1148 - val_accuracy: 0.9663\n",
            "Epoch 9/20\n",
            "1875/1875 [==============================] - 9s 5ms/step - loss: 0.1045 - accuracy: 0.9715 - val_loss: 0.1079 - val_accuracy: 0.9689\n",
            "Epoch 10/20\n",
            "1875/1875 [==============================] - 9s 5ms/step - loss: 0.0954 - accuracy: 0.9738 - val_loss: 0.1063 - val_accuracy: 0.9696\n",
            "Epoch 11/20\n",
            "1875/1875 [==============================] - 9s 5ms/step - loss: 0.0824 - accuracy: 0.9773 - val_loss: 0.0962 - val_accuracy: 0.9720\n",
            "Epoch 12/20\n",
            "1875/1875 [==============================] - 9s 5ms/step - loss: 0.0761 - accuracy: 0.9789 - val_loss: 0.0936 - val_accuracy: 0.9726\n",
            "Epoch 13/20\n",
            "1875/1875 [==============================] - 10s 5ms/step - loss: 0.0719 - accuracy: 0.9807 - val_loss: 0.0866 - val_accuracy: 0.9742\n",
            "Epoch 14/20\n",
            "1875/1875 [==============================] - 10s 5ms/step - loss: 0.0665 - accuracy: 0.9823 - val_loss: 0.0858 - val_accuracy: 0.9745\n",
            "Epoch 15/20\n",
            "1875/1875 [==============================] - 9s 5ms/step - loss: 0.0612 - accuracy: 0.9833 - val_loss: 0.0829 - val_accuracy: 0.9756\n",
            "Epoch 16/20\n",
            "1875/1875 [==============================] - 9s 5ms/step - loss: 0.0577 - accuracy: 0.9842 - val_loss: 0.0911 - val_accuracy: 0.9726\n",
            "Epoch 17/20\n",
            "1875/1875 [==============================] - 9s 5ms/step - loss: 0.0527 - accuracy: 0.9859 - val_loss: 0.0824 - val_accuracy: 0.9746\n",
            "Epoch 18/20\n",
            "1875/1875 [==============================] - 9s 5ms/step - loss: 0.0479 - accuracy: 0.9873 - val_loss: 0.0765 - val_accuracy: 0.9768\n",
            "Epoch 19/20\n",
            " 427/1875 [=====>........................] - ETA: 6s - loss: 0.0495 - accuracy: 0.9882"
          ],
          "name": "stdout"
        }
      ]
    },
    {
      "cell_type": "markdown",
      "metadata": {
        "id": "XYu2rMtB_FxI"
      },
      "source": [
        "# Q5. Back-Propagation"
      ]
    },
    {
      "cell_type": "code",
      "metadata": {
        "id": "zbCqds5p_Gx2"
      },
      "source": [
        "# Q5_graded\n",
        "# Do not change the above line.\n",
        "\n",
        "# This cell is for your imports\n",
        "\n",
        "import numpy as np\n",
        "import matplotlib.pyplot as plt\n"
      ],
      "execution_count": null,
      "outputs": []
    },
    {
      "cell_type": "code",
      "metadata": {
        "id": "_DkIgkeD_Ubv"
      },
      "source": [
        "# Q5_graded\n",
        "# Do not change the above line.\n",
        "\n",
        "# This cell is for your codes.s\n",
        "\n",
        "#implement the class with one hidden layer    \n",
        "class MLP:\n",
        "  def __init__(self, input_neurons, hidden_neurons, output_neurons, inputs, learning_rate):\n",
        "    #neurons count\n",
        "    self.input_neurons = input_neurons\n",
        "    self.hidden_neurons = hidden_neurons\n",
        "    self.output_neurons = output_neurons\n",
        "    self.learning_rate = learning_rate\n",
        "\n",
        "    #input data\n",
        "    self.inputs = inputs\n",
        "\n",
        "    #initialize weights between input layer and hidden layer\n",
        "    self.w = np.random.rand(self.hidden_neurons, self.input_neurons)\n",
        "    self.b1 = np.random.rand(self.hidden_neurons, 1)   \n",
        "\n",
        "    #initialize weights between hidden layer and output layer\n",
        "    self.wPrime = np.random.rand(self.output_neurons, self.hidden_neurons)\n",
        "    self.b2 = np.random.rand(self.output_neurons, 1)\n",
        "\n",
        "    #errors\n",
        "    self.error = []\n",
        "\n",
        "#####################################################################################\n",
        "\n",
        "  def E(self, y, desired): return np.multiply(0.5, np.sum(np.power(np.subtract(desired, y), 2)))\n",
        "    \n",
        "  #activation functions\n",
        "  def sigmoid(self, x): return 1 / (1 + np.exp(np.multiply(-1, x)))\n",
        "\n",
        "  def softmax(self, net):\n",
        "      a = np.exp(net)\n",
        "      b = np.sum(a)\n",
        "      return np.divide(a, b)\n",
        "\n",
        "#####################################################################################\n",
        "  def forwardpass(self, data):\n",
        "    net1 = np.dot(self.w, data) + self.b1\n",
        "    #use sigmoid for hidden layer\n",
        "    out1 = self.sigmoid(net1)    \n",
        "    net2 = np.dot(self.wPrime, out1) + self.b2\n",
        "    #use softmax for output layer\n",
        "    out2 = self.softmax(net2)    \n",
        "    return (net1, out1, net2, out2)\n",
        "\n",
        "#####################################################################################\n",
        "  #backward pass\n",
        "  def deltachange(self, data, target, out2, out1):\n",
        "    #weight changes for output node\n",
        "    term1 = np.subtract(out2, target)\n",
        "    \n",
        "    #derivative of sigmoid function\n",
        "    # term2 = np.multiply(out2, np.subtract(1, out2))\n",
        "    #derivative of softmax function\n",
        "    term2 = np.multiply(out2, np.subtract(1, out2))    \n",
        "    \n",
        "    term3 = out1.T\n",
        "    # print(\"term3\", term3)\n",
        "    x = np.multiply(term1, term2)\n",
        "    # print(\"x\", x)\n",
        "    derivative = np.dot(x, term3) #rond(E_total) / rond(w_i)\n",
        "    # print(\"derivative\", derivative)\n",
        "    new_wprime =  np.subtract(self.wPrime, np.multiply(self.learning_rate, derivative))\n",
        "    # print(\"new weight primes\", new_wprime)\n",
        "\n",
        "    #update bias weight\n",
        "    #just term3 changes\n",
        "    #w_i * h1 + w_j * h2 + b ---> derivative = 1\n",
        "    np.subtract(self.b2, np.multiply(self.learning_rate, x), self.b2)\n",
        "\n",
        "    ##########################################\n",
        "    #weight changes for hidden node\n",
        "    # print(\"weight\", self.w)\n",
        "    term11 = np.dot(self.wPrime.T, x)\n",
        "    #derivative of sigmoid function\n",
        "    term22 = np.multiply(out1, np.subtract(1, out1))\n",
        "    term33 = data.T\n",
        "    x2 = np.multiply(term11, term22)\n",
        "    derivative2 = np.dot(x2, term33) #rond(E_total) / rond(w_i)\n",
        "    new_w = np.subtract(self.w, np.multiply(self.learning_rate, derivative2))\n",
        "    # print(\"new weights\", new_w)\n",
        "\n",
        "    #update bias weight\n",
        "    #just term3 changes\n",
        "    #w_i * 1 + w_j * i2 + b ---> derivative = 1\n",
        "    np.subtract(self.b1, np.multiply(self.learning_rate, x2), self.b1)\n",
        "    # print(\"new bias\", self.b1)\n",
        "\n",
        "    #now update weights\n",
        "    self.wPrime = new_wprime\n",
        "    self.w = new_w\n",
        "\n",
        "#####################################################################################\n",
        "  #calculate forward and backward on each data\n",
        "  def forwardbackward(self, line):\n",
        "    l = line.split(\",\")\n",
        "    l = [int(x) for x in l]\n",
        "    desired = np.zeros((10, 1))\n",
        "    desired[l[0]] = 1\n",
        "    #normalize data\n",
        "    data = np.divide(np.array(l[1:]).reshape(784, 1), 255)\n",
        "    #forward\n",
        "    (net1, out1, net2, out2) = self.forwardpass(data)\n",
        "    \n",
        "    \n",
        "    self.error.append(self.E(out2, desired))\n",
        "    #backward\n",
        "    self.deltachange(data, desired, out2, out1)\n",
        "\n",
        "#####################################################################################\n",
        "  def train(self):  \n",
        "    for line in self.inputs:\n",
        "      self.forwardbackward(line)\n",
        "\n",
        "\n",
        "  def test(self, testdata):\n",
        "    true = 0\n",
        "    for line in testdata:\n",
        "      l = line.split(\",\")\n",
        "      l = [int(x) for x in l]\n",
        "      desired = l[0]\n",
        "      #normalize data\n",
        "      data = np.divide(np.array(l[1:]).reshape(784, 1), 255)\n",
        "      #forward\n",
        "      (net1, out1, net2, out2) = self.forwardpass(data)\n",
        "      \n",
        "      for j in range(len(out2)):\n",
        "        if out2[j] == 1:\n",
        "          break\n",
        "      if j == desired:\n",
        "        true += 1\n",
        "    return true   \n",
        "\n",
        "\n"
      ],
      "execution_count": null,
      "outputs": []
    },
    {
      "cell_type": "code",
      "metadata": {
        "id": "dVLmzv43_UrQ"
      },
      "source": [
        "# Q5_graded\n",
        "# Do not change the above line.\n",
        "\n",
        "# This cell is for your codes.\n",
        "\n",
        "\n",
        "my_file = open(\"./sample_data/mnist_train_small.csv\", \"r\")\n",
        "\n",
        "#count of data\n",
        "content = my_file.readlines()\n",
        "mlp = MLP(784, 128, 10, content, 0.3)\n",
        "\n",
        "my_file = open(\"./sample_data/mnist_test.csv\", \"r\")\n",
        "#count of data\n",
        "content2 = my_file.readlines()\n",
        "\n",
        "train_errors = []\n",
        "test_acc = []\n",
        "#epoch = 3\n",
        "mlp.train()\n",
        "mse = np.sum(mlp.error) / 20000\n",
        "train_errors.append(mse)\n",
        "print(\"loss of training epoch1:\", mse)\n",
        "\n",
        "accuracy = mlp.test(content2)\n",
        "test_acc.append(accuracy)\n",
        "print(\"accuracy of test data\", (accuracy / 10000))\n",
        "\n",
        "mlp.train()\n",
        "mse = np.sum(mlp.error) / 40000\n",
        "train_errors.append(mse)\n",
        "print(\"loss of training epoch2:\", mse)\n",
        "\n",
        "accuracy = mlp.test(content2)\n",
        "test_acc.append(accuracy)\n",
        "print(\"accuracy of test data\", (accuracy / 10000))\n",
        "\n",
        "mlp.train()\n",
        "mse = np.sum(mlp.error) / 60000\n",
        "train_errors.append(mse)\n",
        "print(\"loss of training epoch3:\", mse)\n",
        "\n",
        "accuracy = mlp.test(content2)\n",
        "test_acc.append(accuracy)\n",
        "print(\"accuracy of test data\", (accuracy / 10000))\n",
        "\n",
        "# accuracy = mlp.test(content2)\n",
        "# print(\"accuracy of test data\", accuracy / 10000)\n",
        "\n",
        "epoch = range(1, 4)\n",
        "plt.plot(epoch, train_errors, label=\"train Loss\")\n",
        "plt.plot(epoch, test_acc, '-r')\n",
        "plt.show()\n"
      ],
      "execution_count": null,
      "outputs": []
    },
    {
      "cell_type": "markdown",
      "metadata": {
        "id": "iRqYhKw1rgUp"
      },
      "source": [
        "# <font color='red'>Submission</font>\n",
        "\n",
        "1. Sign up in [Gradescope](https://www.gradescope.com) with proper name and student ID and use the following code to join the class: <font color='red'>**D5372R**</font>\n",
        "2. Fill in your full name (seperated by single spaces) and student ID in the beginning of this notebook.\n",
        "3. After you're done with this notebook, you should do the following:\n",
        "  - Clear all outputs of the notebook.\n",
        "  ![clear all outputs](https://i.ibb.co/y6FrttB/Screen-Shot-2021-03-21-at-01-51-42.png)\n",
        "  - Run all of the cells (if you skipped a question just leave the cell unchanged), and make sure all of your outputs are correct.\n",
        "  ![run all](https://i.ibb.co/cgRcBZ0/Screen-Shot-2021-03-21-at-01-54-58.png)\n",
        "  - Save your notebook.\n",
        "  \n",
        "  - If you're using Colab, download your notebook.\n",
        "  ![download ipynb](https://i.ibb.co/2KxYM6K/Screen-Shot-2021-03-21-at-02-03-50.png)\n",
        "  \n",
        "  - Put the notebook file you just downloaded and `convert.py` in the same folder run the following command:\n",
        "  ```bash\n",
        "  python convert.py\n",
        "  ```\n",
        "  This will export your code for each question into a `.py` file.\n",
        "    - **Note**: if you want to add more cells, add this to the **first** line of the cell:\n",
        "  ```python\n",
        "  # Q5_graded\n",
        "  ```\n",
        "  according to the question number.\n",
        "  - There are 2 assignments in Gradescope:\n",
        "\n",
        "    ![assignments](https://i.ibb.co/10GMhGM/Screen-Shot-2021-03-21-at-02-16-25.png)\n",
        "  \n",
        "    You should upload your **codes** and your **notebook** in `HW1` section and your final report for all of the questions as a **single pdf** file in `HW1 - Report`. Autograder will automatically check for:\n",
        "    - `CI992_HW1.ipynb`\n",
        "    - `Q1.py`\n",
        "    - `Q2.py`\n",
        "    - `Q4.py`\n",
        "    - `Q5.py`\n",
        "    - Your name and ID in the beginning of `.ipynb` file.\n",
        "\n",
        "    It is important that you <font color='red'>**don't**</font> change the names of these files before submission.\n",
        "\n",
        "4. If you pass the autograder, you're good to go."
      ]
    },
    {
      "cell_type": "code",
      "metadata": {
        "id": "wY-8a5HfsJox"
      },
      "source": [
        ""
      ],
      "execution_count": null,
      "outputs": []
    }
  ]
}